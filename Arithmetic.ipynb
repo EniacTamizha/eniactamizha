{
  "nbformat": 4,
  "nbformat_minor": 0,
  "metadata": {
    "colab": {
      "name": "Arithmetic.ipynb",
      "provenance": [],
      "authorship_tag": "ABX9TyN5BvUXxggIACPX4v6ckAMj",
      "include_colab_link": true
    },
    "kernelspec": {
      "name": "python3",
      "display_name": "Python 3"
    },
    "language_info": {
      "name": "python"
    }
  },
  "cells": [
    {
      "cell_type": "markdown",
      "metadata": {
        "id": "view-in-github",
        "colab_type": "text"
      },
      "source": [
        "<a href=\"https://colab.research.google.com/github/EniacTamizha/eniactamizha/blob/main/Arithmetic.ipynb\" target=\"_parent\"><img src=\"https://colab.research.google.com/assets/colab-badge.svg\" alt=\"Open In Colab\"/></a>"
      ]
    },
    {
      "cell_type": "code",
      "metadata": {
        "colab": {
          "base_uri": "https://localhost:8080/"
        },
        "id": "8GzVGcDUDg3L",
        "outputId": "2a2b67c8-b500-4925-a367-6db2e06f11c1"
      },
      "source": [
        "X=int(input(\"Enter num1=\"))\n",
        "Y=int(input(\"Enter num2=\"))\n",
        "print(\"Addition=\",X+Y)\n",
        "print(\"Subtraction=\",X-Y)\n",
        "print(\"Multiplication=\",X*Y)\n",
        "print(\"Division=\",X/Y)"
      ],
      "execution_count": 1,
      "outputs": [
        {
          "output_type": "stream",
          "text": [
            "Enter num1=6\n",
            "Enter num2=8\n",
            "Addition= 14\n",
            "Subtraction= -2\n",
            "Multiplication= 48\n",
            "Division= 0.75\n"
          ],
          "name": "stdout"
        }
      ]
    }
  ]
}