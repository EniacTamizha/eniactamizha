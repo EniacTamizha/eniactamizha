{
  "nbformat": 4,
  "nbformat_minor": 0,
  "metadata": {
    "colab": {
      "name": "Assignment.ipynb",
      "provenance": [],
      "authorship_tag": "ABX9TyPmlOP/VwrXMJpHNcFOzEPQ",
      "include_colab_link": true
    },
    "kernelspec": {
      "name": "python3",
      "display_name": "Python 3"
    },
    "language_info": {
      "name": "python"
    }
  },
  "cells": [
    {
      "cell_type": "markdown",
      "metadata": {
        "id": "view-in-github",
        "colab_type": "text"
      },
      "source": [
        "<a href=\"https://colab.research.google.com/github/EniacTamizha/eniactamizha/blob/main/Assignment.ipynb\" target=\"_parent\"><img src=\"https://colab.research.google.com/assets/colab-badge.svg\" alt=\"Open In Colab\"/></a>"
      ]
    },
    {
      "cell_type": "code",
      "metadata": {
        "colab": {
          "base_uri": "https://localhost:8080/"
        },
        "id": "QPgeExOWyzrS",
        "outputId": "b28bc170-aee2-418f-a460-71045a7f4bcd"
      },
      "source": [
        "def add_string(str1):\n",
        "  length = len(str1) \n",
        " \n",
        "  if length >2:\n",
        "   if str1[-3] == 'ing':\n",
        "    str1 +='ly'\n",
        "   else:\n",
        "    str1 +='ing'\n",
        " \n",
        "   return str1\n",
        "print(add_string (\"ab\")) \n",
        "print(add_string ('abc')) \n",
        "print(add_string ('string'))"
      ],
      "execution_count": null,
      "outputs": [
        {
          "output_type": "stream",
          "text": [
            "None\n",
            "abcing\n",
            "stringing\n"
          ],
          "name": "stdout"
        }
      ]
    },
    {
      "cell_type": "code",
      "metadata": {
        "colab": {
          "base_uri": "https://localhost:8080/"
        },
        "id": "wWeQWOf21ZKe",
        "outputId": "387ff7cb-a8aa-4c84-8c81-6bbe1b964738"
      },
      "source": [
        "def last(n):return n[-1]\n",
        " \n",
        "def sort_list_last(tuples):\n",
        "  return sorted(tuples, key=last) \n",
        " \n",
        "print(sort_list_last([(2, 5), (1, 2), (4, 4), (2, 3), (2, 1)]))"
      ],
      "execution_count": null,
      "outputs": [
        {
          "output_type": "stream",
          "text": [
            "[(2, 1), (1, 2), (2, 3), (4, 4), (2, 5)]\n"
          ],
          "name": "stdout"
        }
      ]
    },
    {
      "cell_type": "code",
      "metadata": {
        "colab": {
          "base_uri": "https://localhost:8080/"
        },
        "id": "FuReKnpr2M6R",
        "outputId": "f4b0994a-f2f2-466d-cbfd-5a4868093390"
      },
      "source": [
        "def Remove(duplicate) :\n",
        "  final_list = []\n",
        "  for num in duplicate:\n",
        "      if num not in final_list:\n",
        "         final_list.append(num) \n",
        "  return final_list\n",
        "duplicate = [2, 4,10,5,2,20,4]\n",
        "print(Remove (duplicate))"
      ],
      "execution_count": null,
      "outputs": [
        {
          "output_type": "stream",
          "text": [
            "[2, 4, 10, 5, 20]\n"
          ],
          "name": "stdout"
        }
      ]
    },
    {
      "cell_type": "code",
      "metadata": {
        "colab": {
          "base_uri": "https://localhost:8080/"
        },
        "id": "yeapq5rn3iYv",
        "outputId": "245e79d6-921b-4675-fc5a-a103a1501741"
      },
      "source": [
        "L = [{\"V\":\"S001\"}, {\"V\":\"S002\"},{\"VI\":\"S001\"}, {\"VI\":\"S005\"},{\"VII\":\"S009\"}, {\"VIII\":\"S007\"}]\n",
        "print(\"original list:\", L) \n",
        "u_value = set(val for dic in L for val in dic.values()) \n",
        "print(\"unique value:\", u_value)"
      ],
      "execution_count": null,
      "outputs": [
        {
          "output_type": "stream",
          "text": [
            "original list: [{'V': 'S001'}, {'V': 'S002'}, {'VI': 'S001'}, {'VI': 'S005'}, {'VII': 'S009'}, {'VIII': 'S007'}]\n",
            "unique value: {'S002', 'S005', 'S007', 'S001', 'S009'}\n"
          ],
          "name": "stdout"
        }
      ]
    },
    {
      "cell_type": "code",
      "metadata": {
        "id": "a-3ev7Vs6ST7",
        "colab": {
          "base_uri": "https://localhost:8080/"
        },
        "outputId": "f17334a1-d585-4ce1-f73b-77090e109df4"
      },
      "source": [
        "import re\n",
        "p = input(\"Enter your password \") \n",
        "x = True\n",
        "while x:\n",
        "  if (len(p)<len(p)>12) :\n",
        "      break\n",
        "  elif not re.search(\"[a-z]\", p):\n",
        "      break\n",
        "  elif not re.search(\"[0-9]\", p):\n",
        "      break\n",
        "  elif not re.search(\"[a-z]\", p):\n",
        "      break\n",
        "  elif not re.search(\"[$#@]\", p):\n",
        "      break\n",
        "  elif re.search(\"\\s\", p):\n",
        "      break\n",
        "  else:\n",
        "      print(\"valid password\") \n",
        "      x=False\n",
        "      break\n",
        "if x:\n",
        "    print(\"Invalid password \")"
      ],
      "execution_count": null,
      "outputs": [
        {
          "output_type": "stream",
          "text": [
            "Enter your password Abc123@\n",
            "valid password\n"
          ],
          "name": "stdout"
        }
      ]
    },
    {
      "cell_type": "code",
      "metadata": {
        "colab": {
          "base_uri": "https://localhost:8080/"
        },
        "id": "rr-DOAm7-B2U",
        "outputId": "f365db3f-64d8-41ac-a3c2-388eec7d2627"
      },
      "source": [
        "n=5;\n",
        "for i in range(n):\n",
        "    for j in range(i):\n",
        "        print('*', end=\"\") \n",
        "    print('') \n",
        " \n",
        "for i in range(n,0,-1):\n",
        "    for j in range(i):\n",
        "        print('*', end=\"\") \n",
        "    print('')"
      ],
      "execution_count": 12,
      "outputs": [
        {
          "output_type": "stream",
          "text": [
            "\n",
            "*\n",
            "**\n",
            "***\n",
            "****\n",
            "*****\n",
            "****\n",
            "***\n",
            "**\n",
            "*\n"
          ],
          "name": "stdout"
        }
      ]
    }
  ]
}