{
  "nbformat": 4,
  "nbformat_minor": 0,
  "metadata": {
    "colab": {
      "name": "Experiment 01.ipynb",
      "provenance": [],
      "collapsed_sections": [],
      "authorship_tag": "ABX9TyMyl/oXbu9PC5j2YU48XV5E",
      "include_colab_link": true
    },
    "kernelspec": {
      "name": "python3",
      "display_name": "Python 3"
    },
    "language_info": {
      "name": "python"
    }
  },
  "cells": [
    {
      "cell_type": "markdown",
      "metadata": {
        "id": "view-in-github",
        "colab_type": "text"
      },
      "source": [
        "<a href=\"https://colab.research.google.com/github/EniacTamizha/eniactamizha/blob/main/Experiment_01.ipynb\" target=\"_parent\"><img src=\"https://colab.research.google.com/assets/colab-badge.svg\" alt=\"Open In Colab\"/></a>"
      ]
    },
    {
      "cell_type": "code",
      "metadata": {
        "colab": {
          "base_uri": "https://localhost:8080/"
        },
        "id": "QU-YwZeg8xmV",
        "outputId": "b7910f71-cda1-4c8e-b319-aa6959960319"
      },
      "source": [
        "P = float(input(\"Enter the principal amount : \"))\n",
        " \n",
        "N = float(input(\"Enter the number of years : \"))\n",
        " \n",
        "R = float(input(\"Enter the rate of interest : \"))\n",
        " \n",
        "SI = (P * N * R)/100\n",
        " \n",
        "print(\"Simple interest : {}\".format(SI))"
      ],
      "execution_count": null,
      "outputs": [
        {
          "output_type": "stream",
          "text": [
            "Enter the principal amount : 1000\n",
            "Enter the number of years : 1\n",
            "Enter the rate of interest : 7\n",
            "Simple interest : 70.0\n"
          ],
          "name": "stdout"
        }
      ]
    },
    {
      "cell_type": "code",
      "metadata": {
        "colab": {
          "base_uri": "https://localhost:8080/"
        },
        "id": "3jI_hWrSFazP",
        "outputId": "b32a8388-4add-47c3-9948-70a7416d8cf7"
      },
      "source": [
        "name = input(\"Please input name: \")\n",
        "age = int(input(\"Please input age: \"))\n",
        "address = input(\"Please input address: \")\n",
        "Salary = int(input(\" Please input Salary:\")) \n",
        "Phone = int(input(\"Please input Phone:\")) \n",
        "print(\"My name is: \", name)\n",
        "print(\"My age is: \", age)\n",
        "print(\"My address is: \", address)\n",
        "print(\"My Salary is:\", Salary) \n",
        "print(\"My Phone number is :\", Phone)"
      ],
      "execution_count": null,
      "outputs": [
        {
          "output_type": "stream",
          "text": [
            "Please input name: Eniyavan\n",
            "Please input age: 20\n",
            "Please input address: Mallasamudram\n",
            " Please input Salary:50000\n",
            "Please input Phone:6369797112\n",
            "My name is:  Eniyavan\n",
            "My age is:  20\n",
            "My address is:  Mallasamudram\n",
            "My Salary is: 50000\n",
            "My Phone number is : 6369797112\n"
          ],
          "name": "stdout"
        }
      ]
    },
    {
      "cell_type": "code",
      "metadata": {
        "colab": {
          "base_uri": "https://localhost:8080/"
        },
        "id": "VzQGsIFzFuCy",
        "outputId": "d0e16460-28de-489f-ac0b-2dd33a46f697"
      },
      "source": [
        " \n",
        "s = 'HelloWorld'\n",
        "reverse_str = s[::-1]\n",
        "print(reverse_str)"
      ],
      "execution_count": null,
      "outputs": [
        {
          "output_type": "stream",
          "text": [
            "dlroWolleH\n"
          ],
          "name": "stdout"
        }
      ]
    }
  ]
}