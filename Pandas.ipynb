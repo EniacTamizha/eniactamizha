{
  "nbformat": 4,
  "nbformat_minor": 0,
  "metadata": {
    "colab": {
      "provenance": [],
      "authorship_tag": "ABX9TyNZXzAUGHhMsravxdTf4I4U",
      "include_colab_link": true
    },
    "kernelspec": {
      "name": "python3",
      "display_name": "Python 3"
    },
    "language_info": {
      "name": "python"
    }
  },
  "cells": [
    {
      "cell_type": "markdown",
      "metadata": {
        "id": "view-in-github",
        "colab_type": "text"
      },
      "source": [
        "<a href=\"https://colab.research.google.com/github/EniacTamizha/eniactamizha/blob/main/Pandas.ipynb\" target=\"_parent\"><img src=\"https://colab.research.google.com/assets/colab-badge.svg\" alt=\"Open In Colab\"/></a>"
      ]
    },
    {
      "cell_type": "code",
      "execution_count": null,
      "metadata": {
        "id": "oq2w9wSh9Na-"
      },
      "outputs": [],
      "source": [
        "import pandas as pd"
      ]
    },
    {
      "cell_type": "code",
      "source": [
        "d={'Age':[21,23,45,65,43],'time':[2,3,4,5,6],'Job':[1,2,3,4,5]}\n",
        "df = pd.DataFrame(data=d)\n",
        "print(df)"
      ],
      "metadata": {
        "colab": {
          "base_uri": "https://localhost:8080/"
        },
        "id": "eG9d_6Eq9n9i",
        "outputId": "35bc9b3c-ebcf-4d8a-d70e-b908a248ccb7"
      },
      "execution_count": null,
      "outputs": [
        {
          "output_type": "stream",
          "name": "stdout",
          "text": [
            "   Age  time  Job\n",
            "0   21     2    1\n",
            "1   23     3    2\n",
            "2   45     4    3\n",
            "3   65     5    4\n",
            "4   43     6    5\n"
          ]
        }
      ]
    },
    {
      "cell_type": "code",
      "source": [
        "import pandas as pd"
      ],
      "metadata": {
        "id": "WmZ87xEX-vcX"
      },
      "execution_count": null,
      "outputs": []
    },
    {
      "cell_type": "code",
      "source": [
        "d = {'Age':[45,52,41,25,36],'D.O.Y':[2002,2008,2007,2001,2006],'Gender':[0,1,0,1,0]}\n",
        "df = pd.DataFrame(data=d)\n",
        "print(d)"
      ],
      "metadata": {
        "colab": {
          "base_uri": "https://localhost:8080/"
        },
        "id": "OnbkQM3i-zRg",
        "outputId": "8599a800-9e91-459a-f5bd-8ac7204579ee"
      },
      "execution_count": null,
      "outputs": [
        {
          "output_type": "stream",
          "name": "stdout",
          "text": [
            "{'Age': [45, 52, 41, 25, 36], 'D.O.Y': [2002, 2008, 2007, 2001, 2006], 'Gender': [0, 1, 0, 1, 0]}\n"
          ]
        }
      ]
    },
    {
      "cell_type": "code",
      "source": [
        "import pandas as pd\n",
        "d = {'Age':[45,52,41,25,36],'D.O.Y':[2002,2008,2007,2001,2006],'Gender':[0,1,0,1,0]}\n",
        "df = pd.DataFrame(data=d)\n",
        "print(df)"
      ],
      "metadata": {
        "colab": {
          "base_uri": "https://localhost:8080/"
        },
        "id": "N5XveyL9ATuV",
        "outputId": "7607bf0d-870d-45c4-8ef9-ca8eb0b66fb9"
      },
      "execution_count": null,
      "outputs": [
        {
          "output_type": "stream",
          "name": "stdout",
          "text": [
            "   Age  D.O.Y  Gender\n",
            "0   45   2002       0\n",
            "1   52   2008       1\n",
            "2   41   2007       0\n",
            "3   25   2001       1\n",
            "4   36   2006       0\n"
          ]
        }
      ]
    },
    {
      "cell_type": "code",
      "source": [
        "import pandas as pd\n",
        "d={'Age':[21,23,45,65,43],'time':[2,3,4,5,6],'Job':[1,2,3,4,5]}\n",
        "df = pd.DataFrame(data=d)\n",
        "print(df)"
      ],
      "metadata": {
        "colab": {
          "base_uri": "https://localhost:8080/"
        },
        "id": "aYePf7Ww-YWL",
        "outputId": "8f339a34-29db-4950-c030-2e0561d4dd0a"
      },
      "execution_count": null,
      "outputs": [
        {
          "output_type": "stream",
          "name": "stdout",
          "text": [
            "   Age  time  Job\n",
            "0   21     2    1\n",
            "1   23     3    2\n",
            "2   45     4    3\n",
            "3   65     5    4\n",
            "4   43     6    5\n"
          ]
        }
      ]
    },
    {
      "cell_type": "code",
      "source": [
        "import pandas as pd\n",
        "\n",
        "d = {'col1': [1, 2, 3, 4, 7], 'col2': [4, 5, 6, 9, 5], 'col3': [7, 8, 12, 1, 11]}\n",
        "\n",
        "df = pd.DataFrame(data=d)\n",
        "\n",
        "print(df)\n",
        "row=df.shape[0]\n",
        "column=df.shape[1]\n",
        "print(\"\\n\")\n",
        "print(row)\n",
        "print(\"\\n\")\n",
        "print(column)"
      ],
      "metadata": {
        "colab": {
          "base_uri": "https://localhost:8080/"
        },
        "id": "n5SUxqMY-isg",
        "outputId": "1ed53135-a182-472a-9093-7602143459f4"
      },
      "execution_count": null,
      "outputs": [
        {
          "output_type": "stream",
          "name": "stdout",
          "text": [
            "   col1  col2  col3\n",
            "0     1     4     7\n",
            "1     2     5     8\n",
            "2     3     6    12\n",
            "3     4     9     1\n",
            "4     7     5    11\n",
            "\n",
            "\n",
            "5\n",
            "\n",
            "\n",
            "3\n"
          ]
        }
      ]
    },
    {
      "cell_type": "code",
      "source": [
        "import pandas as pd\n",
        "import numpy as np\n",
        "\n",
        "d = {'col1': [1, 2, 3, 4, 7], 'col2': [4, 5, 6, 9, 5], 'col3': [7, 8, 12, 1, 11]}\n",
        "e=(240, 250, 260, 270, 280, 290, 300, 310, 320, 330)\n",
        "\n",
        "df = pd.DataFrame(data=d)\n",
        "nf=np.mean(e)\n",
        "\n",
        "print(df)\n",
        "print(nf)\n",
        "row=df.shape[0]\n",
        "column=df.shape[1]\n",
        "print(row)\n",
        "print(column)\n",
        "print(max(e))\n",
        "print(min(e))"
      ],
      "metadata": {
        "colab": {
          "base_uri": "https://localhost:8080/"
        },
        "id": "_AKzRGNrXu9K",
        "outputId": "5db7d79d-f52a-47ea-9110-f56abb899003"
      },
      "execution_count": null,
      "outputs": [
        {
          "output_type": "stream",
          "name": "stdout",
          "text": [
            "   col1  col2  col3\n",
            "0     1     4     7\n",
            "1     2     5     8\n",
            "2     3     6    12\n",
            "3     4     9     1\n",
            "4     7     5    11\n",
            "285.0\n",
            "5\n",
            "3\n",
            "330\n",
            "240\n"
          ]
        }
      ]
    },
    {
      "cell_type": "code",
      "source": [
        "import pandas as pd\n",
        "health_data = pd.read_csv(\"data.csv\", header=0, sep=\",\")\n",
        "\n",
        "\n",
        "print(health_data.head())"
      ],
      "metadata": {
        "colab": {
          "base_uri": "https://localhost:8080/"
        },
        "id": "UNbY7cvid2Yn",
        "outputId": "6738d338-be4b-4797-95bd-3e053389fb0c"
      },
      "execution_count": null,
      "outputs": [
        {
          "output_type": "stream",
          "name": "stdout",
          "text": [
            "   Unnamed: 0  Duration   Average_Pulse Max_Pulse  Calorie_Burnage  \\\n",
            "0           0       30.0           80.0       120            240.0   \n",
            "1           1       45.0           85.0       120            250.0   \n",
            "2           2       45.0           90.0       130            260.0   \n",
            "3           3       60.0           95.0       130            270.0   \n",
            "4           4       60.0          100.0       140            280.0   \n",
            "\n",
            "   Hours_Work  Hours_Sleep  Unnamed: 7  \n",
            "0        10.0          7.0         NaN  \n",
            "1        10.0          7.0         NaN  \n",
            "2         8.0          7.0         NaN  \n",
            "3         8.0          7.0         NaN  \n",
            "4         0.0          7.0         NaN  \n"
          ]
        }
      ]
    },
    {
      "cell_type": "code",
      "source": [
        "import pandas as ps\n",
        "d={'Age':[20,19,18],'DOY':[2003,2004,2005]}\n",
        "df=ps.DataFrame(data=d)\n",
        "print(df)"
      ],
      "metadata": {
        "colab": {
          "base_uri": "https://localhost:8080/"
        },
        "id": "oOeX6_LcnSAx",
        "outputId": "0ef80e41-13e8-4d6b-c533-11cc061a832b"
      },
      "execution_count": 2,
      "outputs": [
        {
          "output_type": "stream",
          "name": "stdout",
          "text": [
            "   Age   DOY\n",
            "0   20  2003\n",
            "1   19  2004\n",
            "2   18  2005\n"
          ]
        }
      ]
    }
  ]
}