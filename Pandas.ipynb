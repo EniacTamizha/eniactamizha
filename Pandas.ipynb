{
  "nbformat": 4,
  "nbformat_minor": 0,
  "metadata": {
    "colab": {
      "provenance": [],
      "authorship_tag": "ABX9TyMswEQjaGGsrbT3RNM5/cFu",
      "include_colab_link": true
    },
    "kernelspec": {
      "name": "python3",
      "display_name": "Python 3"
    },
    "language_info": {
      "name": "python"
    }
  },
  "cells": [
    {
      "cell_type": "markdown",
      "metadata": {
        "id": "view-in-github",
        "colab_type": "text"
      },
      "source": [
        "<a href=\"https://colab.research.google.com/github/EniacTamizha/eniactamizha/blob/main/Pandas.ipynb\" target=\"_parent\"><img src=\"https://colab.research.google.com/assets/colab-badge.svg\" alt=\"Open In Colab\"/></a>"
      ]
    },
    {
      "cell_type": "code",
      "execution_count": null,
      "metadata": {
        "id": "oq2w9wSh9Na-"
      },
      "outputs": [],
      "source": [
        "import pandas as pd"
      ]
    },
    {
      "cell_type": "code",
      "source": [
        "d={'Age':[21,23,45,65,43],'time':[2,3,4,5,6],'Job':[1,2,3,4,5]}\n",
        "df = pd.DataFrame(data=d)\n",
        "print(df)"
      ],
      "metadata": {
        "colab": {
          "base_uri": "https://localhost:8080/"
        },
        "id": "eG9d_6Eq9n9i",
        "outputId": "35bc9b3c-ebcf-4d8a-d70e-b908a248ccb7"
      },
      "execution_count": null,
      "outputs": [
        {
          "output_type": "stream",
          "name": "stdout",
          "text": [
            "   Age  time  Job\n",
            "0   21     2    1\n",
            "1   23     3    2\n",
            "2   45     4    3\n",
            "3   65     5    4\n",
            "4   43     6    5\n"
          ]
        }
      ]
    },
    {
      "cell_type": "code",
      "source": [
        "import pandas as pd"
      ],
      "metadata": {
        "id": "WmZ87xEX-vcX"
      },
      "execution_count": null,
      "outputs": []
    },
    {
      "cell_type": "code",
      "source": [
        "d = {'Age':[45,52,41,25,36],'D.O.Y':[2002,2008,2007,2001,2006],'Gender':[0,1,0,1,0]}\n",
        "df = pd.DataFrame(data=d)\n",
        "print(d)"
      ],
      "metadata": {
        "colab": {
          "base_uri": "https://localhost:8080/"
        },
        "id": "OnbkQM3i-zRg",
        "outputId": "8599a800-9e91-459a-f5bd-8ac7204579ee"
      },
      "execution_count": null,
      "outputs": [
        {
          "output_type": "stream",
          "name": "stdout",
          "text": [
            "{'Age': [45, 52, 41, 25, 36], 'D.O.Y': [2002, 2008, 2007, 2001, 2006], 'Gender': [0, 1, 0, 1, 0]}\n"
          ]
        }
      ]
    },
    {
      "cell_type": "code",
      "source": [
        "import pandas as pd\n",
        "d = {'Age':[45,52,41,25,36],'D.O.Y':[2002,2008,2007,2001,2006],'Gender':[0,1,0,1,0]}\n",
        "df = pd.DataFrame(data=d)\n",
        "print(df)"
      ],
      "metadata": {
        "colab": {
          "base_uri": "https://localhost:8080/"
        },
        "id": "N5XveyL9ATuV",
        "outputId": "7607bf0d-870d-45c4-8ef9-ca8eb0b66fb9"
      },
      "execution_count": null,
      "outputs": [
        {
          "output_type": "stream",
          "name": "stdout",
          "text": [
            "   Age  D.O.Y  Gender\n",
            "0   45   2002       0\n",
            "1   52   2008       1\n",
            "2   41   2007       0\n",
            "3   25   2001       1\n",
            "4   36   2006       0\n"
          ]
        }
      ]
    },
    {
      "cell_type": "code",
      "source": [
        "import pandas as pd\n",
        "d={'Age':[21,23,45,65,43],'time':[2,3,4,5,6],'Job':[1,2,3,4,5]}\n",
        "df = pd.DataFrame(data=d)\n",
        "print(df)"
      ],
      "metadata": {
        "colab": {
          "base_uri": "https://localhost:8080/"
        },
        "id": "aYePf7Ww-YWL",
        "outputId": "8f339a34-29db-4950-c030-2e0561d4dd0a"
      },
      "execution_count": null,
      "outputs": [
        {
          "output_type": "stream",
          "name": "stdout",
          "text": [
            "   Age  time  Job\n",
            "0   21     2    1\n",
            "1   23     3    2\n",
            "2   45     4    3\n",
            "3   65     5    4\n",
            "4   43     6    5\n"
          ]
        }
      ]
    },
    {
      "cell_type": "code",
      "source": [
        "import pandas as pd\n",
        "\n",
        "d = {'col1': [1, 2, 3, 4, 7], 'col2': [4, 5, 6, 9, 5], 'col3': [7, 8, 12, 1, 11]}\n",
        "\n",
        "df = pd.DataFrame(data=d)\n",
        "\n",
        "print(df)\n",
        "row=df.shape[0]\n",
        "column=df.shape[1]\n",
        "print(\"\\n\")\n",
        "print(row)\n",
        "print(\"\\n\")\n",
        "print(column)"
      ],
      "metadata": {
        "colab": {
          "base_uri": "https://localhost:8080/"
        },
        "id": "n5SUxqMY-isg",
        "outputId": "1ed53135-a182-472a-9093-7602143459f4"
      },
      "execution_count": null,
      "outputs": [
        {
          "output_type": "stream",
          "name": "stdout",
          "text": [
            "   col1  col2  col3\n",
            "0     1     4     7\n",
            "1     2     5     8\n",
            "2     3     6    12\n",
            "3     4     9     1\n",
            "4     7     5    11\n",
            "\n",
            "\n",
            "5\n",
            "\n",
            "\n",
            "3\n"
          ]
        }
      ]
    },
    {
      "cell_type": "code",
      "source": [
        "import pandas as pd\n",
        "import numpy as np\n",
        "\n",
        "d = {'col1': [1, 2, 3, 4, 7], 'col2': [4, 5, 6, 9, 5], 'col3': [7, 8, 12, 1, 11]}\n",
        "e=(240, 250, 260, 270, 280, 290, 300, 310, 320, 330)\n",
        "\n",
        "df = pd.DataFrame(data=d)\n",
        "nf=np.mean(e)\n",
        "\n",
        "print(df)\n",
        "print(nf)\n",
        "row=df.shape[0]\n",
        "column=df.shape[1]\n",
        "print(row)\n",
        "print(column)\n",
        "print(max(e))\n",
        "print(min(e))"
      ],
      "metadata": {
        "colab": {
          "base_uri": "https://localhost:8080/"
        },
        "id": "_AKzRGNrXu9K",
        "outputId": "5db7d79d-f52a-47ea-9110-f56abb899003"
      },
      "execution_count": null,
      "outputs": [
        {
          "output_type": "stream",
          "name": "stdout",
          "text": [
            "   col1  col2  col3\n",
            "0     1     4     7\n",
            "1     2     5     8\n",
            "2     3     6    12\n",
            "3     4     9     1\n",
            "4     7     5    11\n",
            "285.0\n",
            "5\n",
            "3\n",
            "330\n",
            "240\n"
          ]
        }
      ]
    },
    {
      "cell_type": "code",
      "source": [
        "import pandas as pd\n",
        "health_data = pd.read_csv(\"data.csv\", header=0, sep=\",\")\n",
        "\n",
        "\n",
        "print(health_data.head())"
      ],
      "metadata": {
        "colab": {
          "base_uri": "https://localhost:8080/"
        },
        "id": "UNbY7cvid2Yn",
        "outputId": "6738d338-be4b-4797-95bd-3e053389fb0c"
      },
      "execution_count": null,
      "outputs": [
        {
          "output_type": "stream",
          "name": "stdout",
          "text": [
            "   Unnamed: 0  Duration   Average_Pulse Max_Pulse  Calorie_Burnage  \\\n",
            "0           0       30.0           80.0       120            240.0   \n",
            "1           1       45.0           85.0       120            250.0   \n",
            "2           2       45.0           90.0       130            260.0   \n",
            "3           3       60.0           95.0       130            270.0   \n",
            "4           4       60.0          100.0       140            280.0   \n",
            "\n",
            "   Hours_Work  Hours_Sleep  Unnamed: 7  \n",
            "0        10.0          7.0         NaN  \n",
            "1        10.0          7.0         NaN  \n",
            "2         8.0          7.0         NaN  \n",
            "3         8.0          7.0         NaN  \n",
            "4         0.0          7.0         NaN  \n"
          ]
        }
      ]
    },
    {
      "cell_type": "code",
      "source": [
        "import pandas as ps\n",
        "import numpy as ny\n",
        "d={'Age':[20,19,18],'DOY':[2003,2004,2005]}\n",
        "df=ps.DataFrame(data=d)\n",
        "mean=(20,23,34,556,67,665)\n",
        "print(df)"
      ],
      "metadata": {
        "colab": {
          "base_uri": "https://localhost:8080/"
        },
        "id": "oOeX6_LcnSAx",
        "outputId": "0ef80e41-13e8-4d6b-c533-11cc061a832b"
      },
      "execution_count": 2,
      "outputs": [
        {
          "output_type": "stream",
          "name": "stdout",
          "text": [
            "   Age   DOY\n",
            "0   20  2003\n",
            "1   19  2004\n",
            "2   18  2005\n"
          ]
        }
      ]
    },
    {
      "cell_type": "code",
      "source": [
        "import numpy as ny\n",
        "k =(12,34,45,67,89,976,5,4,43)\n",
        "print(max(k))\n",
        "print(min(k))\n",
        "mean=ny.mean(k)\n",
        "print(mean)"
      ],
      "metadata": {
        "colab": {
          "base_uri": "https://localhost:8080/"
        },
        "id": "4jOBkqzCo0Ot",
        "outputId": "01297cb6-82b9-4408-bd7c-2fd0536f5598"
      },
      "execution_count": 8,
      "outputs": [
        {
          "output_type": "stream",
          "name": "stdout",
          "text": [
            "976\n",
            "4\n",
            "141.66666666666666\n"
          ]
        }
      ]
    },
    {
      "cell_type": "code",
      "source": [
        "import pandas as pd\n",
        "import numpy as ny\n",
        "data1=pd.read_csv(\"data1.csv\", header=0, sep=\",\")\n",
        "print(data1)\n",
        "\n"
      ],
      "metadata": {
        "colab": {
          "base_uri": "https://localhost:8080/"
        },
        "id": "BJArDxA0HXmz",
        "outputId": "bd5e6807-9fd5-4a3b-9d31-cf437210563e"
      },
      "execution_count": 9,
      "outputs": [
        {
          "output_type": "stream",
          "name": "stdout",
          "text": [
            "   Student Name      Roll No  Age  Grade Pass /fail\n",
            "0             A  73772026101   19     88       Pass\n",
            "1             B  73772026102   19     95       Pass\n",
            "2             C  73772026103   18     98       Pass\n",
            "3             D  73772026104   17     82       Pass\n",
            "4             E  73772026105   17     95       Pass\n",
            "5             F  73772026106   20     82       Pass\n",
            "6             G  73772026107   17     92       Pass\n",
            "7             H  73772026108   17     80       Pass\n",
            "8             I  73772026109   20     83       Pass\n",
            "9             J  73772026110   20     83       Pass\n",
            "10            K  73772026111   19     99       Pass\n",
            "11            L  73772026112   19     99       Pass\n",
            "12            M  73772026113   19     82       Pass\n",
            "13            N  73772026114   20     99       Pass\n",
            "14            O  73772026115   17     88       Pass\n",
            "15            P  73772026116   17     94       Pass\n",
            "16            Q  73772026117   18     99       Pass\n",
            "17            R  73772026118   17     87       Pass\n",
            "18            S  73772026119   19     86       Pass\n"
          ]
        }
      ]
    },
    {
      "cell_type": "code",
      "source": [
        "import pandas as pd\n",
        "import numpy as ny\n",
        "data2=pd.read_csv(\"data2.csv\", header=0, sep=\",\")\n",
        "data2.dropna(axis=0,inplace=True)\n",
        "print(data2)\n",
        "print(\"\\n\")\n",
        "print(data2.shape[0])\n",
        "print(data2.shape[1])"
      ],
      "metadata": {
        "colab": {
          "base_uri": "https://localhost:8080/"
        },
        "id": "qqdyyGnZHXvC",
        "outputId": "50d898da-6188-466e-bd0a-3a611aa1ef7b"
      },
      "execution_count": 16,
      "outputs": [
        {
          "output_type": "stream",
          "name": "stdout",
          "text": [
            "   Student Name       Roll No  Age  Grade Pass /fail\n",
            "0             A  7.377203e+10   19     88       Pass\n",
            "1             B  7.377203e+10   19     85       Pass\n",
            "2             C  7.377203e+10   19     88       Pass\n",
            "3             D  7.377203e+10   17     93       Pass\n",
            "4             E  7.377203e+10   18     84       Pass\n",
            "5             F  7.377203e+10   20     80       Pass\n",
            "6             G  7.377203e+10   19     87       Pass\n",
            "7             H  7.377203e+10   18     93       Pass\n",
            "8             I  7.377203e+10   18     83       Pass\n",
            "9             J  7.377203e+10   20     97       Pass\n",
            "10            K  7.377203e+10   17     89       Pass\n",
            "11            L  7.377203e+10   20     89       Pass\n",
            "12            M  7.377203e+10   18     96       Pass\n",
            "13            N  7.377203e+10   19     89       Pass\n",
            "15            P  7.377203e+10   20     88       Pass\n",
            "16            Q  7.377203e+10   18     86       Pass\n",
            "17            R  7.377203e+10   18     84       Pass\n",
            "\n",
            "\n",
            "17\n",
            "5\n"
          ]
        }
      ]
    }
  ]
}